{
 "cells": [
  {
   "cell_type": "code",
   "execution_count": null,
   "id": "4e7889b7",
   "metadata": {},
   "outputs": [
    {
     "name": "stdout",
     "output_type": "stream",
     "text": [
      "Generating training data...\n"
     ]
    },
    {
     "name": "stderr",
     "output_type": "stream",
     "text": [
      "Generating user1: 100%|██████████| 500/500 [00:00<00:00, 9093.70it/s]\n",
      "Generating user2: 100%|██████████| 500/500 [00:00<00:00, 9090.50it/s]\n",
      "Generating user3: 100%|██████████| 500/500 [00:00<00:00, 7042.95it/s]\n",
      "Generating user4: 100%|██████████| 500/500 [00:00<00:00, 8926.56it/s]\n",
      "Generating user5: 100%|██████████| 500/500 [00:00<00:00, 9078.34it/s]\n"
     ]
    }
   ],
   "source": [
    "import numpy as np\n",
    "import pandas as pd\n",
    "from sklearn.ensemble import RandomForestClassifier\n",
    "from sklearn.model_selection import train_test_split\n",
    "from joblib import dump\n",
    "import random\n",
    "from tqdm import tqdm\n",
    "\n",
    "# User IDs\n",
    "user_ids = ['user1', 'user2', 'user3', 'user4', 'user5']\n",
    "\n",
    "def generate_movement_sequence(user_id, sequence_length=20):\n",
    "    sequence = []\n",
    "    base_x, base_y = random.randint(100, 500), random.randint(100, 500)\n",
    "    \n",
    "    for _ in range(sequence_length):\n",
    "       \n",
    "        if user_id == 'user1':  \n",
    "            x = base_x + random.gauss(0, 5)\n",
    "            y = base_y + random.gauss(0, 5)\n",
    "        elif user_id == 'user2':  \n",
    "            x = base_x + random.gauss(0, 20)\n",
    "            y = base_y + random.gauss(0, 25)\n",
    "        elif user_id == 'user3':  \n",
    "            angle = random.uniform(0, 2*np.pi)\n",
    "            x = base_x + 15 * np.cos(angle) + random.gauss(0, 3)\n",
    "            y = base_y + 15 * np.sin(angle) + random.gauss(0, 3)\n",
    "        elif user_id == 'user4': \n",
    "            x = base_x + random.gauss(0, 10)\n",
    "            y = base_y + x * 0.7 + random.gauss(0, 4)\n",
    "        else:  \n",
    "            x = base_x + random.gauss(0, 30)\n",
    "            y = base_y + random.gauss(0, 35)\n",
    "        \n",
    "        sequence.append((x, y))\n",
    "        base_x, base_y = x, y\n",
    "    \n",
    "    return sequence\n",
    "\n",
    "def extract_features(sequence):\n",
    "    features = {}\n",
    "    x_coords = [p[0] for p in sequence]\n",
    "    y_coords = [p[1] for p in sequence]\n",
    "    \n",
    "    \n",
    "    dx = np.diff(x_coords)\n",
    "    dy = np.diff(y_coords)\n",
    "    \n",
    "    # Basic statistics\n",
    "    features['mean_dx'] = np.mean(dx)\n",
    "    features['mean_dy'] = np.mean(dy)\n",
    "    features['std_dx'] = np.std(dx)\n",
    "    features['std_dy'] = np.std(dy)\n",
    "    features['total_distance'] = np.sum(np.sqrt(dx**2 + dy**2))\n",
    "    \n",
    "\n",
    "    distances = np.sqrt(dx**2 + dy**2)\n",
    "    speeds = distances  \n",
    "    accelerations = np.diff(speeds)\n",
    "    \n",
    "    features['mean_speed'] = np.mean(speeds)\n",
    "    features['max_speed'] = np.max(speeds)\n",
    "    features['speed_variation'] = np.std(speeds)\n",
    "    features['mean_acceleration'] = np.mean(accelerations)\n",
    "    \n",
    "    \n",
    "    angles = np.arctan2(dy, dx)\n",
    "    features['angle_variation'] = np.std(angles)\n",
    "    features['mean_angle_change'] = np.mean(np.abs(np.diff(angles)))\n",
    "    \n",
    "    \n",
    "    curvature = np.diff(angles) / (distances[1:] + 1e-6)  # Avoid division by zero\n",
    "    features['mean_curvature'] = np.mean(curvature)\n",
    "    \n",
    "    return features\n",
    "\n",
    "\n",
    "num_samples_per_user = 500\n",
    "sequence_length = 20  \n",
    "\n",
    "data = []\n",
    "labels = []\n",
    "\n",
    "print(\"Generating training data...\")\n",
    "for user_id in user_ids:\n",
    "    for _ in tqdm(range(num_samples_per_user), desc=f\"Generating {user_id}\"):\n",
    "        sequence = generate_movement_sequence(user_id, sequence_length)\n",
    "        features = extract_features(sequence)\n",
    "        data.append(features)\n",
    "        labels.append(user_id)\n",
    "\n",
    "\n",
    "features_df = pd.DataFrame(data)\n",
    "features_df['user_id'] = labels"
   ]
  },
  {
   "cell_type": "code",
   "execution_count": null,
   "id": "708a82f7",
   "metadata": {},
   "outputs": [
    {
     "name": "stdout",
     "output_type": "stream",
     "text": [
      "Training accuracy: 0.9995\n",
      "Test accuracy: 0.9760\n"
     ]
    },
    {
     "data": {
      "text/plain": [
       "['feature_names.joblib']"
      ]
     },
     "execution_count": 26,
     "metadata": {},
     "output_type": "execute_result"
    }
   ],
   "source": [
    "\n",
    "X = features_df.drop('user_id', axis=1)\n",
    "y = features_df['user_id']\n",
    "\n",
    "\n",
    "X_train, X_test, y_train, y_test = train_test_split(\n",
    "    X, y, test_size=0.2, random_state=42\n",
    ")\n",
    "\n",
    "\n",
    "model = RandomForestClassifier(\n",
    "    n_estimators=150,\n",
    "    max_depth=10,\n",
    "    random_state=42,\n",
    "    class_weight='balanced'\n",
    ")\n",
    "model.fit(X_train, y_train)\n",
    "\n",
    "\n",
    "train_acc = model.score(X_train, y_train)\n",
    "test_acc = model.score(X_test, y_test)\n",
    "print(f\"Training accuracy: {train_acc:.4f}\")\n",
    "print(f\"Test accuracy: {test_acc:.4f}\")\n",
    "\n",
    "\n",
    "dump(model, 'mouse_sequence_model.joblib')\n",
    "dump(list(X.columns), 'feature_names.joblib')"
   ]
  },
  {
   "cell_type": "code",
   "execution_count": null,
   "id": "5760d05c",
   "metadata": {},
   "outputs": [],
   "source": [
    "def verify_user(coordinate_sequence, claimed_user_id):\n",
    "    \"\"\"\n",
    "    Verify if the mouse movement sequence matches the claimed user ID.\n",
    "    \n",
    "    Args:\n",
    "        coordinate_sequence: List of (x,y) tuples representing mouse movements\n",
    "        claimed_user_id: The user ID to verify against\n",
    "    \n",
    "    Returns:\n",
    "        1 if the movement matches the claimed user, 0 otherwise\n",
    "    \"\"\"\n",
    "\n",
    "    model = joblib.load('mouse_sequence_model.joblib')\n",
    "    feature_names = joblib.load('feature_names.joblib')\n",
    "    \n",
    " \n",
    "    features = extract_features(coordinate_sequence)\n",
    "    \n",
    "\n",
    "    input_data = pd.DataFrame([features])[feature_names]\n",
    "    \n",
    "\n",
    "    predicted_user = model.predict(input_data)[0]\n",
    "    \n",
    "    return 1 if predicted_user == claimed_user_id else 0"
   ]
  },
  {
   "cell_type": "code",
   "execution_count": null,
   "id": "4a18b864",
   "metadata": {},
   "outputs": [
    {
     "name": "stdout",
     "output_type": "stream",
     "text": [
      "Verification result: 1\n"
     ]
    }
   ],
   "source": [
    "\n",
    "sample_sequence = [(100, 200), (105, 203), (110, 210), (115, 215), \n",
    "                   (120, 220), (125, 225), (130, 230), (135, 235)]\n",
    "\n",
    "\n",
    "claimed_user = 'user1'\n",
    "result = verify_user(sample_sequence, claimed_user)\n",
    "print(f\"Verification result: {result}\")  # Returns 1 if matches, 0 otherwise"
   ]
  },
  {
   "cell_type": "code",
   "execution_count": null,
   "id": "acec07bf",
   "metadata": {},
   "outputs": [],
   "source": []
  }
 ],
 "metadata": {
  "kernelspec": {
   "display_name": "tf-gpu",
   "language": "python",
   "name": "python3"
  },
  "language_info": {
   "codemirror_mode": {
    "name": "ipython",
    "version": 3
   },
   "file_extension": ".py",
   "mimetype": "text/x-python",
   "name": "python",
   "nbconvert_exporter": "python",
   "pygments_lexer": "ipython3",
   "version": "3.9.18"
  }
 },
 "nbformat": 4,
 "nbformat_minor": 5
}
